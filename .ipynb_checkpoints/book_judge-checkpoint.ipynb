{
 "cells": [
  {
   "cell_type": "code",
   "execution_count": 2,
   "id": "e4785aa5-0f84-43e4-a819-31e94cdc99c9",
   "metadata": {},
   "outputs": [
    {
     "name": "stdout",
     "output_type": "stream",
     "text": [
      "Requirement already satisfied: opencv-python in c:\\users\\aguia\\appdata\\local\\programs\\python\\python39\\lib\\site-packages (4.6.0.66)\n",
      "Requirement already satisfied: numpy>=1.19.3 in c:\\users\\aguia\\appdata\\local\\programs\\python\\python39\\lib\\site-packages (from opencv-python) (1.23.5)\n",
      "Note: you may need to restart the kernel to use updated packages.\n"
     ]
    }
   ],
   "source": [
    "pip install opencv-python"
   ]
  },
  {
   "cell_type": "code",
   "execution_count": 8,
   "id": "f40d6995-e686-4a89-9d42-6421154546f1",
   "metadata": {},
   "outputs": [],
   "source": [
    "# import the necessary packages\n",
    "from image_transform.ipynb import four_point_transform\n",
    "from skimage.filters import threshold_local\n",
    "import numpy as np\n",
    "import argparse\n",
    "import cv2\n",
    "import imutils\n",
    "# construct the argument parser and parse the arguments\n",
    "ap = argparse.ArgumentParser()\n",
    "ap.add_argument(\"-i\", \"--image\", required = True,\n",
    "\thelp = \"Path to the image to be scanned\")\n",
    "args = vars(ap.parse_args())"
   ]
  },
  {
   "cell_type": "code",
   "execution_count": null,
   "id": "305171f6-4086-49e5-8f2b-eef2b2e72ef0",
   "metadata": {},
   "outputs": [],
   "source": []
  },
  {
   "cell_type": "code",
   "execution_count": 19,
   "id": "c502d69b-f9b4-45f1-ab2d-b7f4683094ac",
   "metadata": {},
   "outputs": [],
   "source": [
    "\n",
    "\n",
    "# Load the image into a NumPy array\n",
    "image = cv2.imread('bookcover.png')\n",
    "\n",
    "# Detect edges in the image\n",
    "edges = cv2.Canny(image, 100, 200)\n",
    "\n",
    "# Find the contours in the edge image\n",
    "contours, hierarchy = cv2.findContours(edges, cv2.RETR_TREE, cv2.CHAIN_APPROX_SIMPLE)\n",
    "\n",
    "# Iterate through the contours and approximate the shape of each contour\n",
    "for contour in contours:\n",
    "    epsilon = 0.01 * cv2.arcLength(contour, True)\n",
    "    approx = cv2.approxPolyDP(contour, epsilon, True)\n",
    "    # Check if the approximated contour is a rectangle\n",
    "    if len(approx) == 4:\n",
    "        # Draw the rectangle on the image\n",
    "        cv2.drawContours(image, [approx], 0, (0, 255, 0), 3)\n",
    "        cv2.imwrite('rectangles.jpg', image)        \n",
    "\n",
    "# Save the image with the rectangles overlaid\n",
    "\n"
   ]
  }
 ],
 "metadata": {
  "kernelspec": {
   "display_name": "Python 3 (ipykernel)",
   "language": "python",
   "name": "python3"
  },
  "language_info": {
   "codemirror_mode": {
    "name": "ipython",
    "version": 3
   },
   "file_extension": ".py",
   "mimetype": "text/x-python",
   "name": "python",
   "nbconvert_exporter": "python",
   "pygments_lexer": "ipython3",
   "version": "3.9.13"
  }
 },
 "nbformat": 4,
 "nbformat_minor": 5
}
