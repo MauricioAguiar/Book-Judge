{
 "cells": [
  {
   "cell_type": "markdown",
   "id": "27ef4e9d-1c81-4daf-a38b-b1f074e48496",
   "metadata": {
    "tags": []
   },
   "source": [
    "import os\n",
    "from PIL import Image\n",
    "\n",
    "folder_path = 'D:/DS\\Book-Judge/Bookcover/resized'\n",
    "\n",
    "for file_name in os.listdir(folder_path):\n",
    "    if file_name.endswith('.jpg') or file_name.endswith('.jpeg'):\n",
    "        continue\n",
    "    file_path = os.path.join(folder_path, file_name)\n",
    "    image = Image.open(file_path)\n",
    "    image = image.convert('RGB')\n",
    "    jpeg_file_path = os.path.join(folder_path, os.path.splitext(file_name)[0] + '.jpg')\n",
    "    image.save(jpeg_file_path)\n",
    "    os.remove(file_path)"
   ]
  },
  {
   "cell_type": "markdown",
   "id": "44126fa8-98b6-486e-b9c4-76475e77adb4",
   "metadata": {
    "tags": []
   },
   "source": [
    "import os\n",
    "\n",
    "folder_path = 'D:/DS\\Book-Judge/Bookcover/resized'\n",
    "\n",
    "i = 1\n",
    "for file_name in os.listdir(folder_path):\n",
    "    if not file_name.endswith('.jpg') and not file_name.endswith('.jpeg'):\n",
    "        continue\n",
    "    file_path = os.path.join(folder_path, file_name)\n",
    "    new_file_name = f\"image{i:03d}.jpg\"\n",
    "    new_file_path = os.path.join(folder_path, new_file_name)\n",
    "    os.rename(file_path, new_file_path)\n",
    "    i += 1"
   ]
  },
  {
   "cell_type": "markdown",
   "id": "5f552dd0-583d-4025-83c0-8133f5ca2ed3",
   "metadata": {
    "tags": []
   },
   "source": [
    "#Resizing all images to a 246x400 of original size\n",
    "\n",
    "#Original Path\n",
    "path = \"D:/DS\\Book-Judge/Bookcover/\"\n",
    "\n",
    "def resize_aspect_fit():\n",
    "    dirs = os.listdir(path)\n",
    "    for item in dirs:\n",
    "        if item == '.png':\n",
    "            continue\n",
    "        if os.path.isfile(path+item):\n",
    "            image = Image.open(path+item)\n",
    "            file_path, extension = os.path.splitext(path+item)\n",
    "\n",
    "            new_image_height = 260\n",
    "            new_image_length = 400\n",
    "\n",
    "            image = image.resize((new_image_height, new_image_length), Image.ANTIALIAS)\n",
    "            image.save(file_path + \"_small\" + extension, 'JPEG', quality=90)\n",
    "\n",
    "\n",
    "resize_aspect_fit()"
   ]
  },
  {
   "cell_type": "code",
   "execution_count": 3,
   "id": "0e1ee48d-d5e3-4b6d-999d-56d5faf5bf77",
   "metadata": {
    "tags": []
   },
   "outputs": [
    {
     "name": "stdout",
     "output_type": "stream",
     "text": [
      "Requirement already satisfied: pyside2 in c:\\users\\aguia\\appdata\\local\\programs\\python\\python39\\lib\\site-packages (5.15.2.1)\n",
      "Requirement already satisfied: shiboken2==5.15.2.1 in c:\\users\\aguia\\appdata\\local\\programs\\python\\python39\\lib\\site-packages (from pyside2) (5.15.2.1)\n",
      "Note: you may need to restart the kernel to use updated packages.\n"
     ]
    }
   ],
   "source": []
  },
  {
   "cell_type": "code",
   "execution_count": null,
   "id": "01db59a0-4275-4e38-a9ae-09e6790b7d8d",
   "metadata": {},
   "outputs": [],
   "source": []
  }
 ],
 "metadata": {
  "kernelspec": {
   "display_name": "Python 3 (ipykernel)",
   "language": "python",
   "name": "python3"
  },
  "language_info": {
   "codemirror_mode": {
    "name": "ipython",
    "version": 3
   },
   "file_extension": ".py",
   "mimetype": "text/x-python",
   "name": "python",
   "nbconvert_exporter": "python",
   "pygments_lexer": "ipython3",
   "version": "3.9.13"
  }
 },
 "nbformat": 4,
 "nbformat_minor": 5
}
